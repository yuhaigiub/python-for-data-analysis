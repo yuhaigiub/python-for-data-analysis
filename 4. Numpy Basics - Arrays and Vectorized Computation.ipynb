{
 "cells": [
  {
   "cell_type": "code",
   "execution_count": 1,
   "id": "d07833c7",
   "metadata": {},
   "outputs": [],
   "source": [
    "import pandas as pd\n",
    "pd.options.display.float_format = '{:,.2f}'.format # printing format"
   ]
  },
  {
   "cell_type": "code",
   "execution_count": 2,
   "id": "809b3db3",
   "metadata": {},
   "outputs": [],
   "source": [
    "import numpy as np\n",
    "np.random.seed(12345) \n",
    "np.set_printoptions(precision=4, suppress=True) # printing format"
   ]
  },
  {
   "cell_type": "code",
   "execution_count": 3,
   "id": "1aec8787",
   "metadata": {},
   "outputs": [
    {
     "name": "stdout",
     "output_type": "stream",
     "text": [
      "Numpy array: \n",
      "CPU times: total: 15.6 ms\n",
      "Wall time: 20 ms\n",
      "----------------------------------------------------\n",
      "Python list: \n",
      "CPU times: total: 891 ms\n",
      "Wall time: 898 ms\n"
     ]
    }
   ],
   "source": [
    "# to give an idea of the performance difference\n",
    "# consider a Numpy array of 1 million integers, and the equivalent Python list\n",
    "my_arr = np.arange(1000000)\n",
    "my_list = list(range(1000000))\n",
    "\n",
    "# now let's multiply each sequence by 2\n",
    "print('Numpy array: ')\n",
    "%time for _ in range(10): my_arr2 = my_arr * 2\n",
    "print('----------------------------------------------------')\n",
    "print('Python list: ')\n",
    "%time for _ in range(10): my_list2 = [x * 2 for x in my_list]"
   ]
  },
  {
   "cell_type": "markdown",
   "id": "d0388afd",
   "metadata": {},
   "source": [
    "# 4.1 The Numpy ndarray: A Multidimensional ArrayObject"
   ]
  },
  {
   "cell_type": "code",
   "execution_count": 4,
   "id": "1ae91207",
   "metadata": {},
   "outputs": [
    {
     "name": "stdout",
     "output_type": "stream",
     "text": [
      "generate some random data: \n",
      "[[-0.2047  0.4789 -0.5194]\n",
      " [-0.5557  1.9658  1.3934]]\n",
      "--------------------------------------------\n",
      "write mathematical operations with data\n",
      "multiply with a scalar\n",
      "[[-2.0471  4.7894 -5.1944]\n",
      " [-5.5573 19.6578 13.9341]]\n",
      "-------------------\n",
      "add another array\n",
      "[[-0.4094  0.9579 -1.0389]\n",
      " [-1.1115  3.9316  2.7868]]\n",
      "--------------------------------------------\n"
     ]
    }
   ],
   "source": [
    "# one of the key features of Numpy is its N-dimensional array object, or ndarray\n",
    "# which is a fast, flexible container for large datasets in Python\n",
    "# arrays enable you to perform mathematical operations on whole blocks of data\n",
    "# using similar syntax to the equivalent operations between scalar elements\n",
    "\n",
    "print('generate some random data: ')\n",
    "data = np.random.randn(2, 3)\n",
    "print(data)\n",
    "print('--------------------------------------------')\n",
    "print('write mathematical operations with data')\n",
    "print('multiply with a scalar')\n",
    "print(data * 10)\n",
    "print('-------------------')\n",
    "print('add another array')\n",
    "print(data + data)\n",
    "print('--------------------------------------------')"
   ]
  },
  {
   "cell_type": "code",
   "execution_count": 5,
   "id": "022bc5a6",
   "metadata": {},
   "outputs": [
    {
     "name": "stdout",
     "output_type": "stream",
     "text": [
      "shape: (2, 3)\n",
      "data type: float64\n"
     ]
    }
   ],
   "source": [
    "# An ndarray is a generic multidimensional container for homogeneous data\n",
    "# that is, all of the elements must be the same type\n",
    "# every array as a 'shape' (a tuple indicating the size of each dimension)\n",
    "# and a 'dtype' (an object describing the data type of the array)\n",
    "print('shape:', data.shape)\n",
    "print('data type:', data.dtype)\n",
    "\n",
    "# while it's not necessary to have a deep understanding of Numpy for many data analytical applications\n",
    "# becoming proficient in array-oriented programming and thinking \n",
    "# is a key step along the way to becoming a scientific Python guru"
   ]
  },
  {
   "cell_type": "markdown",
   "id": "a20c4ca0",
   "metadata": {},
   "source": [
    "## 4.1.1 Creating ndarrays"
   ]
  },
  {
   "cell_type": "code",
   "execution_count": 6,
   "id": "3ce4a3fc",
   "metadata": {},
   "outputs": [
    {
     "data": {
      "text/plain": [
       "array([6. , 7.5, 8. , 0. , 1. ])"
      ]
     },
     "execution_count": 6,
     "metadata": {},
     "output_type": "execute_result"
    }
   ],
   "source": [
    "# the easiest way to create an array is to use the array() function\n",
    "# this accepts any sequence-like object and produces a new Numpy array containing the passed data\n",
    "\n",
    "data1 = [6, 7.5, 8, 0, 1]\n",
    "arr1 = np.array(data1)\n",
    "\n",
    "arr1"
   ]
  },
  {
   "cell_type": "code",
   "execution_count": 7,
   "id": "e9d7e7e3",
   "metadata": {},
   "outputs": [
    {
     "data": {
      "text/plain": [
       "array([[1, 2, 3, 4],\n",
       "       [5, 6, 7, 8]])"
      ]
     },
     "execution_count": 7,
     "metadata": {},
     "output_type": "execute_result"
    }
   ],
   "source": [
    "# nested sequences, like a list of equal-length lists, will be converted into a multidimensional array\n",
    "\n",
    "data2 = [[1, 2, 3, 4], [5, 6, 7, 8]]\n",
    "arr2 = np.array(data2)\n",
    "\n",
    "arr2"
   ]
  },
  {
   "cell_type": "code",
   "execution_count": 8,
   "id": "c909f8d1",
   "metadata": {},
   "outputs": [
    {
     "name": "stdout",
     "output_type": "stream",
     "text": [
      "number of dimensions: 2\n",
      "shape: (2, 4)\n"
     ]
    }
   ],
   "source": [
    "# the Numpy array data2 has two dimensions with the shape inferred from the data\n",
    "# we can confirm by inspecting the 'ndim' and 'shape' attribute\n",
    "print('number of dimensions:', arr2.ndim)\n",
    "print('shape:', arr2.shape)"
   ]
  },
  {
   "cell_type": "code",
   "execution_count": 9,
   "id": "187bdb62",
   "metadata": {},
   "outputs": [
    {
     "name": "stdout",
     "output_type": "stream",
     "text": [
      "arr1's data type: float64\n",
      "arr2's data type: int32\n"
     ]
    }
   ],
   "source": [
    "# unless explicitly specified, np.array() tries to infer a good data type for the array that it creates\n",
    "print(\"arr1's data type:\", arr1.dtype)\n",
    "print(\"arr2's data type:\", arr2.dtype)"
   ]
  },
  {
   "cell_type": "code",
   "execution_count": 10,
   "id": "445bdeb7",
   "metadata": {},
   "outputs": [
    {
     "name": "stdout",
     "output_type": "stream",
     "text": [
      "np.zeros() create an arrays of 0s\n",
      "[0. 0. 0. 0. 0. 0. 0. 0. 0. 0.]\n",
      "------------------------------------\n",
      "np.ones() create an arrays of 1s\n",
      "[[1. 1. 1. 1. 1. 1.]\n",
      " [1. 1. 1. 1. 1. 1.]\n",
      " [1. 1. 1. 1. 1. 1.]]\n",
      "------------------------------------\n",
      "np.empty() create an array without initializing its value to any particular value\n",
      "[[[1.1721e-311 2.4703e-322]\n",
      "  [0.0000e+000 0.0000e+000]\n",
      "  [1.1126e-306 2.4234e-057]]\n",
      "\n",
      " [[5.0316e-091 3.7997e+175]\n",
      "  [1.2916e+160 5.1586e-066]\n",
      "  [3.9991e+252 5.1956e+170]]]\n",
      "------------------------------------\n",
      "np.arange() is an array-valued version of the built-in Python range() function\n",
      "[ 0  1  2  3  4  5  6  7  8  9 10 11 12 13 14]\n",
      "------------------------------------\n"
     ]
    }
   ],
   "source": [
    "# in addition to np.array(), there are a number of functions for creating new arrays\n",
    "\n",
    "print('np.zeros() create an arrays of 0s')\n",
    "print(np.zeros(10))\n",
    "print('------------------------------------')\n",
    "print('np.ones() create an arrays of 1s')\n",
    "print(np.ones((3, 6)))\n",
    "print('------------------------------------')\n",
    "print('np.empty() create an array without initializing its value to any particular value')\n",
    "print(np.empty((2, 3, 2)))\n",
    "print('------------------------------------')\n",
    "print('np.arange() is an array-valued version of the built-in Python range() function')\n",
    "print(np.arange(15))\n",
    "print('------------------------------------')"
   ]
  },
  {
   "cell_type": "markdown",
   "id": "8326c460",
   "metadata": {},
   "source": [
    "## 4.1.2 Data Types for ndarrays"
   ]
  },
  {
   "cell_type": "code",
   "execution_count": 11,
   "id": "8f37692e",
   "metadata": {},
   "outputs": [
    {
     "name": "stdout",
     "output_type": "stream",
     "text": [
      "arr1's data type: float64\n",
      "arr2's data type: int32\n"
     ]
    }
   ],
   "source": [
    "# the data type or 'dtype' is a special object containing the information (metadata)\n",
    "# the ndarray needs to interpret a chunk of memory as a particular type of data\n",
    "arr1 = np.array([1, 2, 3], dtype=np.float64)\n",
    "arr2 = np.array([1, 2, 3], dtype=np.int32)\n",
    "print(\"arr1's data type:\", arr1.dtype)\n",
    "print(\"arr2's data type:\", arr2.dtype)"
   ]
  },
  {
   "cell_type": "code",
   "execution_count": 12,
   "id": "b86d7f17",
   "metadata": {},
   "outputs": [
    {
     "name": "stdout",
     "output_type": "stream",
     "text": [
      "arr's data type: int32\n",
      "float_arr's data type: float64\n"
     ]
    }
   ],
   "source": [
    "# you can explicitly convert or cast an array from one dtype to another using astype()\n",
    "arr = np.array([1, 2, 3, 4, 5])\n",
    "print(\"arr's data type:\", arr.dtype)\n",
    "float_arr = arr.astype(np.float64)\n",
    "print(\"float_arr's data type:\", float_arr.dtype)"
   ]
  },
  {
   "cell_type": "code",
   "execution_count": 13,
   "id": "1fa39f2a",
   "metadata": {},
   "outputs": [
    {
     "name": "stdout",
     "output_type": "stream",
     "text": [
      "arr: [ 3.7 -1.2 -2.6  0.5 12.9 10.1]\n",
      "truncated arr: [ 3 -1 -2  0 12 10]\n"
     ]
    }
   ],
   "source": [
    "# if floating-point numbers are casted to be of integer dtype, the decimal part will be truncated\n",
    "arr = np.array([3.7, -1.2, -2.6, 0.5, 12.9, 10.1])\n",
    "print(\"arr:\", arr)\n",
    "print(\"truncated arr:\", arr.astype(np.int32))"
   ]
  },
  {
   "cell_type": "code",
   "execution_count": 14,
   "id": "624a1218",
   "metadata": {},
   "outputs": [
    {
     "data": {
      "text/plain": [
       "array([ 1.25, -9.6 , 42.  ])"
      ]
     },
     "execution_count": 14,
     "metadata": {},
     "output_type": "execute_result"
    }
   ],
   "source": [
    "# if you have an array of strings representing numbers, you can use astype() to convert them to numeric form\n",
    "numeric_strings = np.array(['1.25', '-9.6', '42'], dtype=np.string_)\n",
    "numeric_strings.astype(float) # Numpy aliases the Python types to its own equivalent data dtypes"
   ]
  },
  {
   "cell_type": "code",
   "execution_count": 15,
   "id": "786610a0",
   "metadata": {},
   "outputs": [
    {
     "data": {
      "text/plain": [
       "array([0., 1., 2., 3., 4., 5., 6., 7., 8., 9.])"
      ]
     },
     "execution_count": 15,
     "metadata": {},
     "output_type": "execute_result"
    }
   ],
   "source": [
    "# you can also use another array's dtype attribute\n",
    "int_array = np.arange(10)\n",
    "calibers = np.array([.22, .270, .357, .380, .44, .50], dtype=np.float64)\n",
    "int_array.astype(calibers.dtype)"
   ]
  },
  {
   "cell_type": "code",
   "execution_count": 16,
   "id": "681a7735",
   "metadata": {},
   "outputs": [
    {
     "data": {
      "text/plain": [
       "array([         0, 1075314688,          0, 1075707904,          0,\n",
       "       1075838976,          0, 1072693248], dtype=uint32)"
      ]
     },
     "execution_count": 16,
     "metadata": {},
     "output_type": "execute_result"
    }
   ],
   "source": [
    "# there are shorthand type code strings you can also use to refer to a dtype\n",
    "empty_uint32 = np.empty(8, dtype='u4')\n",
    "empty_uint32"
   ]
  },
  {
   "cell_type": "markdown",
   "id": "2666adae",
   "metadata": {},
   "source": [
    "## 4.1.3 Arithmetic with Numpy Arrays"
   ]
  },
  {
   "cell_type": "code",
   "execution_count": 17,
   "id": "2324614d",
   "metadata": {},
   "outputs": [
    {
     "name": "stdout",
     "output_type": "stream",
     "text": [
      "array:\n",
      "[[1. 2. 3.]\n",
      " [4. 5. 6.]]\n",
      "------------------------------------\n",
      "multiply:\n",
      "[[ 1.  4.  9.]\n",
      " [16. 25. 36.]]\n",
      "------------------------------------\n",
      "subtract:\n",
      "[[0. 0. 0.]\n",
      " [0. 0. 0.]]\n",
      "------------------------------------\n"
     ]
    }
   ],
   "source": [
    "# arrays are important because they enable you to express batch operations on data without writing any for loops\n",
    "# Numpy users call this 'vectorization'\n",
    "\n",
    "arr = np.array([[1., 2., 3.], [4., 5., 6.]])\n",
    "\n",
    "# any arithmetic operations between equal-size arrays applies the operation 'element-wise'\n",
    "print('array:')\n",
    "print(arr)\n",
    "print('------------------------------------')\n",
    "print('multiply:')\n",
    "print(arr * arr)\n",
    "print('------------------------------------')\n",
    "print('subtract:')\n",
    "print(arr - arr)\n",
    "print('------------------------------------')"
   ]
  },
  {
   "cell_type": "code",
   "execution_count": 18,
   "id": "5d62a045",
   "metadata": {},
   "outputs": [
    {
     "name": "stdout",
     "output_type": "stream",
     "text": [
      "inverse:\n",
      "[[1.     0.5    0.3333]\n",
      " [0.25   0.2    0.1667]]\n",
      "------------------------------------\n",
      "square root:\n",
      "[[1.     1.4142 1.7321]\n",
      " [2.     2.2361 2.4495]]\n",
      "------------------------------------\n"
     ]
    }
   ],
   "source": [
    "# arithemtic operations with scalars propagate the scalar argument to each element in the array\n",
    "\n",
    "print('inverse:')\n",
    "print(1/arr)\n",
    "print('------------------------------------')\n",
    "print('square root:')\n",
    "print(arr ** 0.5)\n",
    "print('------------------------------------')"
   ]
  },
  {
   "cell_type": "code",
   "execution_count": 19,
   "id": "a5df0484",
   "metadata": {},
   "outputs": [
    {
     "name": "stdout",
     "output_type": "stream",
     "text": [
      "arr2:\n",
      "[[ 0.  4.  1.]\n",
      " [ 7.  2. 12.]]\n",
      "------------------------------------\n",
      "arr2 > arr:\n",
      "[[False  True False]\n",
      " [ True False  True]]\n",
      "------------------------------------\n"
     ]
    }
   ],
   "source": [
    "# comparison between arrays of the same size yield boolean arrays\n",
    "\n",
    "arr2 = np.array([[0., 4., 1.], [7., 2., 12.]])\n",
    "print('arr2:')\n",
    "print(arr2)\n",
    "print('------------------------------------')\n",
    "print('arr2 > arr:')\n",
    "print(arr2 > arr)\n",
    "print('------------------------------------')"
   ]
  },
  {
   "cell_type": "markdown",
   "id": "bbee214a",
   "metadata": {},
   "source": [
    "## 4.1.4 Basic Indexing and Slicing"
   ]
  },
  {
   "cell_type": "code",
   "execution_count": 20,
   "id": "d8602a33",
   "metadata": {},
   "outputs": [
    {
     "name": "stdout",
     "output_type": "stream",
     "text": [
      "arr: [0, 1, 2, 3, 4, 5, 6, 7, 8, 9]\n",
      "------------------------------------\n",
      "a[5]   = 5\n",
      "a[5:8] = [5, 6, 7]\n",
      "------------------------------------\n",
      "arr: [0, 1, 2, 3, 4, 12, 12, 12, 8, 9]\n",
      "------------------------------------\n"
     ]
    }
   ],
   "source": [
    "# there are many ways you want to select a subset of your data or individual elements\n",
    "\n",
    "# one-dimensional arrays are simple; on the surface they act similarly to Python lists\n",
    "arr = np.arange(10)\n",
    "\n",
    "print('arr:', list(arr))\n",
    "print('------------------------------------')\n",
    "print('a[5]   =', arr[5])\n",
    "print('a[5:8] =', list(arr[5:8]))\n",
    "print('------------------------------------')\n",
    "arr[5:8] = 12\n",
    "print('arr:', list(arr))\n",
    "print('------------------------------------')"
   ]
  },
  {
   "cell_type": "code",
   "execution_count": 21,
   "id": "3e6aaab6",
   "metadata": {},
   "outputs": [
    {
     "name": "stdout",
     "output_type": "stream",
     "text": [
      "arr_slice = [12, 12, 12]\n",
      "------------------------------------\n",
      "arr = [0, 1, 2, 3, 4, 12, 12345, 12, 8, 9]\n",
      "------------------------------------\n",
      "arr = [0, 1, 2, 3, 4, 64, 64, 64, 8, 9]\n"
     ]
    }
   ],
   "source": [
    "# an important distinction from Python's built-in lists is that slices are views on the original array\n",
    "\n",
    "arr_slice = arr[5:8]\n",
    "print('arr_slice =', list(arr_slice))\n",
    "print('------------------------------------')\n",
    "arr_slice[1] = 12345\n",
    "print('arr =', list(arr))\n",
    "print('------------------------------------')\n",
    "\n",
    "# [:] will select all values in an array\n",
    "arr_slice[:] = 64\n",
    "print('arr =', list(arr))"
   ]
  },
  {
   "cell_type": "code",
   "execution_count": 22,
   "id": "36b564d9",
   "metadata": {},
   "outputs": [
    {
     "name": "stdout",
     "output_type": "stream",
     "text": [
      "arr2d[2] = [7 8 9]\n",
      "------------------------------------\n",
      "arr2d[0][2] = 3\n",
      "------------------------------------\n",
      "arr2d[0, 2] = 3\n",
      "------------------------------------\n"
     ]
    }
   ],
   "source": [
    "# with higher dimensional arrays, you have more options\n",
    "\n",
    "arr2d = np.array([[1, 2, 3], [4, 5, 6], [7, 8, 9]])\n",
    "print('arr2d[2] =', arr2d[2])\n",
    "print('------------------------------------')\n",
    "print('arr2d[0][2] =', arr2d[0][2])\n",
    "print('------------------------------------')\n",
    "print('arr2d[0, 2] =', arr2d[0, 2]) # you can pass a comma-separated list of indices to select individual elements\n",
    "print('------------------------------------')"
   ]
  },
  {
   "cell_type": "code",
   "execution_count": 23,
   "id": "46b83481",
   "metadata": {},
   "outputs": [
    {
     "name": "stdout",
     "output_type": "stream",
     "text": [
      "arr3d (2x2x3) =\n",
      "[[[ 1  2  3]\n",
      "  [ 4  5  6]]\n",
      "\n",
      " [[ 7  8  9]\n",
      "  [10 11 12]]]\n",
      "------------------------------------\n",
      "arr3d[0] is a 2x3 array:\n",
      "[[1 2 3]\n",
      " [4 5 6]]\n",
      "------------------------------------\n"
     ]
    }
   ],
   "source": [
    "# in multidimensional arrays, if you omit later indices, the returned object will be a lower dimensional ndarray\n",
    "\n",
    "arr3d = np.array([[[1, 2, 3], [4, 5, 6]], [[7, 8, 9], [10, 11, 12]]], dtype=np.int32)\n",
    "print('arr3d (2x2x3) =')\n",
    "print(arr3d)\n",
    "print('------------------------------------')\n",
    "print('arr3d[0] is a 2x3 array:')\n",
    "print(arr3d[0])\n",
    "print('------------------------------------')"
   ]
  },
  {
   "cell_type": "code",
   "execution_count": 24,
   "id": "ef406e4c",
   "metadata": {},
   "outputs": [
    {
     "name": "stdout",
     "output_type": "stream",
     "text": [
      "arr3d =\n",
      "[[[42 42 42]\n",
      "  [42 42 42]]\n",
      "\n",
      " [[ 7  8  9]\n",
      "  [10 11 12]]]\n",
      "------------------------------------\n",
      "arr3d =\n",
      "[[[ 1  2  3]\n",
      "  [ 4  5  6]]\n",
      "\n",
      " [[ 7  8  9]\n",
      "  [10 11 12]]]\n",
      "------------------------------------\n"
     ]
    }
   ],
   "source": [
    "# both scalar values and arrays can be assigned to arr3d[0]\n",
    "old_values = arr3d[0].copy()\n",
    "arr3d[0] = 42\n",
    "print('arr3d =')\n",
    "print(arr3d)\n",
    "print('------------------------------------')\n",
    "arr3d[0] = old_values\n",
    "print('arr3d =')\n",
    "print(arr3d)\n",
    "print('------------------------------------')"
   ]
  },
  {
   "cell_type": "code",
   "execution_count": 25,
   "id": "1d077bc7",
   "metadata": {},
   "outputs": [
    {
     "data": {
      "text/plain": [
       "array([7, 8, 9])"
      ]
     },
     "execution_count": 25,
     "metadata": {},
     "output_type": "execute_result"
    }
   ],
   "source": [
    "# similarly, arr3d[1, 0] gives you a 1-dimensional array\n",
    "arr3d[1, 0]"
   ]
  },
  {
   "cell_type": "markdown",
   "id": "647c492c",
   "metadata": {},
   "source": [
    "### 4.1.4.1 Indexing with slices"
   ]
  },
  {
   "cell_type": "code",
   "execution_count": 26,
   "id": "60028c65",
   "metadata": {},
   "outputs": [
    {
     "name": "stdout",
     "output_type": "stream",
     "text": [
      "arr: = [0, 1, 2, 3, 4, 64, 64, 64, 8, 9]\n",
      "------------------------------------\n",
      "arr[1:6] = [1, 2, 3, 4, 64]\n",
      "------------------------------------\n"
     ]
    }
   ],
   "source": [
    "# like one-dimensional objects such as Python lists, ndarrays can be sliced with the familiar syntax\n",
    "\n",
    "print('arr: =', list(arr))\n",
    "print('------------------------------------')\n",
    "print('arr[1:6] =', list(arr[1:6]))\n",
    "print('------------------------------------')"
   ]
  },
  {
   "cell_type": "code",
   "execution_count": 27,
   "id": "dc81cd47",
   "metadata": {},
   "outputs": [
    {
     "name": "stdout",
     "output_type": "stream",
     "text": [
      "arr2d =\n",
      "[[1 2 3]\n",
      " [4 5 6]\n",
      " [7 8 9]]\n",
      "------------------------------------\n",
      "arr2d[:2] =\n",
      "[[1 2 3]\n",
      " [4 5 6]]\n",
      "------------------------------------\n",
      "arr2d[:2, 1:] =\n",
      "[[2 3]\n",
      " [5 6]]\n",
      "------------------------------------\n",
      "select the second row but only the first two columns: arr2d[1, :2]\n",
      "[4 5]\n",
      "------------------------------------\n",
      "select the third column but only the first two rows: arr2d[:2, 2]\n",
      "[3 6]\n",
      "------------------------------------\n",
      "select the first column but on higher dimensional axes: arr2d[:, :1]\n",
      "[[1]\n",
      " [4]\n",
      " [7]]\n",
      "------------------------------------\n"
     ]
    }
   ],
   "source": [
    "# consider the two-dimensional array from before, arr2d. Slicing this array is a bit different\n",
    "\n",
    "print('arr2d =')\n",
    "print(arr2d)\n",
    "print('------------------------------------')\n",
    "print('arr2d[:2] =')\n",
    "print(arr2d[:2])\n",
    "print('------------------------------------')\n",
    "\n",
    "# you can pass multiple slices just like you can pass multiple indexes\n",
    "print('arr2d[:2, 1:] =')\n",
    "print(arr2d[:2, 1:])\n",
    "print('------------------------------------')\n",
    "\n",
    "# by mixing integer indexes and slices, you get lower dimensional slices\n",
    "print('select the second row but only the first two columns: arr2d[1, :2]')\n",
    "print(arr2d[1, :2])\n",
    "print('------------------------------------')\n",
    "print('select the third column but only the first two rows: arr2d[:2, 2]')\n",
    "print(arr2d[:2, 2])\n",
    "print('------------------------------------')\n",
    "\n",
    "# note that a colon by itself means to take the entire axis\n",
    "print('select the first column but on higher dimensional axes: arr2d[:, :1]')\n",
    "print(arr2d[:, :1])\n",
    "print('------------------------------------')"
   ]
  },
  {
   "cell_type": "code",
   "execution_count": 28,
   "id": "64bc080e",
   "metadata": {},
   "outputs": [
    {
     "data": {
      "text/plain": [
       "array([[1, 0, 3],\n",
       "       [4, 0, 6],\n",
       "       [7, 8, 9]])"
      ]
     },
     "execution_count": 28,
     "metadata": {},
     "output_type": "execute_result"
    }
   ],
   "source": [
    "# of course, assigning to a slice expression assigns to the whole section\n",
    "\n",
    "arr2d[:2, 1] = 0\n",
    "arr2d"
   ]
  },
  {
   "cell_type": "markdown",
   "id": "c2a72c03",
   "metadata": {},
   "source": [
    "## 4.1.5 Boolean Indexing"
   ]
  },
  {
   "cell_type": "code",
   "execution_count": 29,
   "id": "90e01c41",
   "metadata": {},
   "outputs": [
    {
     "name": "stdout",
     "output_type": "stream",
     "text": [
      "['Bob' 'Joe' 'Will' 'Bob' 'Will' 'Joe' 'Joe']\n",
      "----------------------------------------------------\n",
      "[[ 0.0929  0.2817  0.769   1.2464]\n",
      " [ 1.0072 -1.2962  0.275   0.2289]\n",
      " [ 1.3529  0.8864 -2.0016 -0.3718]\n",
      " [ 1.669  -0.4386 -0.5397  0.477 ]\n",
      " [ 3.2489 -1.0212 -0.5771  0.1241]\n",
      " [ 0.3026  0.5238  0.0009  1.3438]\n",
      " [-0.7135 -0.8312 -2.3702 -1.8608]]\n"
     ]
    }
   ],
   "source": [
    "# create data\n",
    "names = np.array(['Bob', 'Joe', 'Will', 'Bob', 'Will', 'Joe', 'Joe'])\n",
    "data = np.random.randn(7, 4)\n",
    "\n",
    "print(names)\n",
    "print('----------------------------------------------------')\n",
    "print(data)"
   ]
  },
  {
   "cell_type": "code",
   "execution_count": 30,
   "id": "aa326219",
   "metadata": {},
   "outputs": [
    {
     "name": "stdout",
     "output_type": "stream",
     "text": [
      "Like arithmetic operations, comparison with arrays are also vectorized: \n",
      "(names == 'Bob') =\n",
      "[True, False, False, True, False, False, False]\n",
      "----------------------------------------------------\n",
      "This boolean array can be passed when indexing the array: \n",
      "data[names == 'Bob'] =\n",
      "[[ 0.0929  0.2817  0.769   1.2464]\n",
      " [ 1.669  -0.4386 -0.5397  0.477 ]]\n",
      "----------------------------------------------------\n",
      "you can also select the index columns, too: \n",
      "data[names == 'Bob', 2:] =\n",
      "[[ 0.769   1.2464]\n",
      " [-0.5397  0.477 ]]\n",
      "----------------------------------------------------\n",
      "data[names == 'Bob', 3] =\n",
      "[1.2464 0.477 ]\n",
      "----------------------------------------------------\n"
     ]
    }
   ],
   "source": [
    "# suppose each name corresponds to a row in the data array \n",
    "# and we want to select all the rows with the corresponding name 'Bob'\n",
    "\n",
    "print('Like arithmetic operations, comparison with arrays are also vectorized: ')\n",
    "print(\"(names == 'Bob') =\")\n",
    "print(list(names == 'Bob'))\n",
    "print('----------------------------------------------------')\n",
    "print('This boolean array can be passed when indexing the array: ')\n",
    "print(\"data[names == 'Bob'] =\") \n",
    "print(data[names == 'Bob']) # the boolean array must be of the same length as the array it's indexing\n",
    "print('----------------------------------------------------')\n",
    "print('you can also select the index columns, too: ')\n",
    "print(\"data[names == 'Bob', 2:] =\")\n",
    "print(data[names == 'Bob', 2:])\n",
    "print('----------------------------------------------------')\n",
    "print(\"data[names == 'Bob', 3] =\")\n",
    "print(data[names == 'Bob', 3])\n",
    "print('----------------------------------------------------')"
   ]
  },
  {
   "cell_type": "code",
   "execution_count": 31,
   "id": "bcf30b7e",
   "metadata": {},
   "outputs": [
    {
     "name": "stdout",
     "output_type": "stream",
     "text": [
      "(names != 'Bob') =\n",
      "[False, True, True, False, True, True, True]\n",
      "----------------------------------------------------\n",
      "data[~(names == 'Bob')] =\n",
      "[[ 1.0072 -1.2962  0.275   0.2289]\n",
      " [ 1.3529  0.8864 -2.0016 -0.3718]\n",
      " [ 3.2489 -1.0212 -0.5771  0.1241]\n",
      " [ 0.3026  0.5238  0.0009  1.3438]\n",
      " [-0.7135 -0.8312 -2.3702 -1.8608]]\n",
      "----------------------------------------------------\n"
     ]
    }
   ],
   "source": [
    "# to select everything but 'Bob', use either != or negate the condition using ~\n",
    "\n",
    "print(\"(names != 'Bob') =\")\n",
    "print(list(names != 'Bob'))\n",
    "print('----------------------------------------------------')\n",
    "print(\"data[~(names == 'Bob')] =\")\n",
    "print(data[~(names == 'Bob')])\n",
    "print('----------------------------------------------------')"
   ]
  },
  {
   "cell_type": "code",
   "execution_count": 32,
   "id": "a9a19320",
   "metadata": {},
   "outputs": [
    {
     "name": "stdout",
     "output_type": "stream",
     "text": [
      "[[ 1.0072 -1.2962  0.275   0.2289]\n",
      " [ 1.3529  0.8864 -2.0016 -0.3718]\n",
      " [ 3.2489 -1.0212 -0.5771  0.1241]\n",
      " [ 0.3026  0.5238  0.0009  1.3438]\n",
      " [-0.7135 -0.8312 -2.3702 -1.8608]]\n"
     ]
    }
   ],
   "source": [
    "# the ~ operator can be useful when you want to invert a general condition\n",
    "\n",
    "cond = (names == 'Bob')\n",
    "print(data[~cond])"
   ]
  },
  {
   "cell_type": "code",
   "execution_count": 33,
   "id": "b6548a02",
   "metadata": {},
   "outputs": [
    {
     "name": "stdout",
     "output_type": "stream",
     "text": [
      "mask = [True, False, True, True, True, False, False]\n",
      "----------------------------------------------------\n",
      "data[mask] =\n",
      "[[ 0.0929  0.2817  0.769   1.2464]\n",
      " [ 1.3529  0.8864 -2.0016 -0.3718]\n",
      " [ 1.669  -0.4386 -0.5397  0.477 ]\n",
      " [ 3.2489 -1.0212 -0.5771  0.1241]]\n",
      "----------------------------------------------------\n"
     ]
    }
   ],
   "source": [
    "# to combine multiple boolean conditions, use & (and) and | (or) \n",
    "# Python keywords 'and', 'or' do not work with boolean arrays\n",
    "\n",
    "mask = (names == 'Bob') | (names == 'Will')\n",
    "print(\"mask =\", list(mask))\n",
    "print('----------------------------------------------------')\n",
    "print(\"data[mask] =\")\n",
    "print(data[mask])\n",
    "print('----------------------------------------------------')"
   ]
  },
  {
   "cell_type": "code",
   "execution_count": 34,
   "id": "8983856e",
   "metadata": {},
   "outputs": [
    {
     "name": "stdout",
     "output_type": "stream",
     "text": [
      "[[0.0929 0.2817 0.769  1.2464]\n",
      " [1.0072 0.     0.275  0.2289]\n",
      " [1.3529 0.8864 0.     0.    ]\n",
      " [1.669  0.     0.     0.477 ]\n",
      " [3.2489 0.     0.     0.1241]\n",
      " [0.3026 0.5238 0.0009 1.3438]\n",
      " [0.     0.     0.     0.    ]]\n",
      "----------------------------------------------------\n",
      "[[7.     7.     7.     7.    ]\n",
      " [1.0072 0.     0.275  0.2289]\n",
      " [7.     7.     7.     7.    ]\n",
      " [7.     7.     7.     7.    ]\n",
      " [7.     7.     7.     7.    ]\n",
      " [0.3026 0.5238 0.0009 1.3438]\n",
      " [0.     0.     0.     0.    ]]\n",
      "----------------------------------------------------\n"
     ]
    }
   ],
   "source": [
    "# setting values with boolean arrays works in a common-sense way\n",
    "\n",
    "data[data < 0] = 0\n",
    "print(data)\n",
    "print('----------------------------------------------------')\n",
    "data[names != 'Joe'] = 7\n",
    "print(data)\n",
    "print('----------------------------------------------------')"
   ]
  },
  {
   "cell_type": "markdown",
   "id": "65abc11b",
   "metadata": {},
   "source": [
    "## 4.1.7 Fancy Indexing"
   ]
  },
  {
   "cell_type": "code",
   "execution_count": 35,
   "id": "a84c707e",
   "metadata": {},
   "outputs": [
    {
     "data": {
      "text/plain": [
       "array([[0., 0., 0., 0.],\n",
       "       [1., 1., 1., 1.],\n",
       "       [2., 2., 2., 2.],\n",
       "       [3., 3., 3., 3.],\n",
       "       [4., 4., 4., 4.],\n",
       "       [5., 5., 5., 5.],\n",
       "       [6., 6., 6., 6.],\n",
       "       [7., 7., 7., 7.]])"
      ]
     },
     "execution_count": 35,
     "metadata": {},
     "output_type": "execute_result"
    }
   ],
   "source": [
    "# fancy indexing is a term adopted by Numpy to describe indexing using integer arrays\n",
    "\n",
    "# suppose we have an 8x4 array\n",
    "arr = np.empty((8, 4))\n",
    "for i in range(8):\n",
    "    arr[i] = i\n",
    "\n",
    "arr "
   ]
  },
  {
   "cell_type": "code",
   "execution_count": 36,
   "id": "393afa95",
   "metadata": {},
   "outputs": [
    {
     "data": {
      "text/plain": [
       "array([[4., 4., 4., 4.],\n",
       "       [3., 3., 3., 3.],\n",
       "       [0., 0., 0., 0.],\n",
       "       [6., 6., 6., 6.]])"
      ]
     },
     "execution_count": 36,
     "metadata": {},
     "output_type": "execute_result"
    }
   ],
   "source": [
    "# to select out a subset of the rows in a particular order, \n",
    "# you can simply pass a list or ndarray of integers specifying the desired order\n",
    "arr[[4, 3, 0, 6]]"
   ]
  },
  {
   "cell_type": "code",
   "execution_count": 37,
   "id": "4e8d642b",
   "metadata": {},
   "outputs": [
    {
     "data": {
      "text/plain": [
       "array([[5., 5., 5., 5.],\n",
       "       [3., 3., 3., 3.],\n",
       "       [1., 1., 1., 1.]])"
      ]
     },
     "execution_count": 37,
     "metadata": {},
     "output_type": "execute_result"
    }
   ],
   "source": [
    "# using negative indices selects rows from the end\n",
    "arr[[-3, -5, -7]]"
   ]
  },
  {
   "cell_type": "code",
   "execution_count": 38,
   "id": "75490241",
   "metadata": {},
   "outputs": [
    {
     "name": "stdout",
     "output_type": "stream",
     "text": [
      "arr =\n",
      "[[ 0  1  2  3]\n",
      " [ 4  5  6  7]\n",
      " [ 8  9 10 11]\n",
      " [12 13 14 15]\n",
      " [16 17 18 19]\n",
      " [20 21 22 23]\n",
      " [24 25 26 27]\n",
      " [28 29 30 31]]\n",
      "----------------------------------------------------\n",
      "arr[[1, 5, 7, 2], [0, 3, 1, 2]]] =\n",
      "[ 4 23 29 10]\n",
      "----------------------------------------------------\n"
     ]
    }
   ],
   "source": [
    "# passing multiple index arrays selects a one-dimensional array of elements corresponding to each tuple of indices\n",
    "arr = np.arange(32).reshape((8, 4))\n",
    "print('arr =')\n",
    "print(arr)\n",
    "print('----------------------------------------------------')\n",
    "print('arr[[1, 5, 7, 2], [0, 3, 1, 2]]] =')\n",
    "print(arr[[1, 5, 7, 2], [0, 3, 1, 2]]) # elements (1, 0), (5, 3), (7, 1) and (2, 2) were selected\n",
    "print('----------------------------------------------------')\n"
   ]
  },
  {
   "cell_type": "markdown",
   "id": "faed8841",
   "metadata": {},
   "source": [
    "## 4.1.8 Transposing Arrays and Swapping Axes"
   ]
  },
  {
   "cell_type": "code",
   "execution_count": 39,
   "id": "0b554f46",
   "metadata": {},
   "outputs": [
    {
     "name": "stdout",
     "output_type": "stream",
     "text": [
      "arr =\n",
      "[[ 0  1  2  3  4]\n",
      " [ 5  6  7  8  9]\n",
      " [10 11 12 13 14]]\n",
      "----------------------------------------------------\n",
      "arr.T =\n",
      "[[ 0  5 10]\n",
      " [ 1  6 11]\n",
      " [ 2  7 12]\n",
      " [ 3  8 13]\n",
      " [ 4  9 14]]\n",
      "----------------------------------------------------\n"
     ]
    }
   ],
   "source": [
    "# arrays have the transpose() method and also the 'T' attribute\n",
    "arr = np.arange(15).reshape((3, 5))\n",
    "print('arr =')\n",
    "print(arr)\n",
    "print('----------------------------------------------------')\n",
    "print('arr.T =')\n",
    "print(arr.T)\n",
    "print('----------------------------------------------------')\n"
   ]
  },
  {
   "cell_type": "code",
   "execution_count": 40,
   "id": "a11b320e",
   "metadata": {},
   "outputs": [
    {
     "name": "stdout",
     "output_type": "stream",
     "text": [
      "arr =\n",
      "[[-0.8608  0.5601 -1.2659]\n",
      " [ 0.1198 -1.0635  0.3329]\n",
      " [-2.3594 -0.1995 -1.542 ]\n",
      " [-0.9707 -1.307   0.2863]\n",
      " [ 0.378  -0.7539  0.3313]\n",
      " [ 1.3497  0.0699  0.2467]]\n",
      "----------------------------------------------------\n",
      "np.dot(arr.T, arr) =\n",
      "[[ 9.2291  0.9394  4.948 ]\n",
      " [ 0.9394  3.7662 -1.3622]\n",
      " [ 4.948  -1.3622  4.3437]]\n",
      "----------------------------------------------------\n"
     ]
    }
   ],
   "source": [
    "# to compute the inner matrix product, use np.dot() \n",
    "arr = np.random.randn(6, 3)\n",
    "print('arr =')\n",
    "print(arr.round(4))\n",
    "print('----------------------------------------------------')\n",
    "print('np.dot(arr.T, arr) =')\n",
    "print(np.dot(arr.T, arr).round(4))\n",
    "print('----------------------------------------------------')"
   ]
  },
  {
   "cell_type": "code",
   "execution_count": 41,
   "id": "95cd98d5",
   "metadata": {},
   "outputs": [
    {
     "name": "stdout",
     "output_type": "stream",
     "text": [
      "arr =\n",
      "[[[ 0  1  2  3]\n",
      "  [ 4  5  6  7]]\n",
      "\n",
      " [[ 8  9 10 11]\n",
      "  [12 13 14 15]]]\n",
      "----------------------------------------------------\n",
      "arr.transpose((1, 0, 2)) =\n",
      "[[[ 0  1  2  3]\n",
      "  [ 8  9 10 11]]\n",
      "\n",
      " [[ 4  5  6  7]\n",
      "  [12 13 14 15]]]\n",
      "----------------------------------------------------\n"
     ]
    }
   ],
   "source": [
    "# for higher dimensional arrays, tranpose() will accept a tuple of axis numbers to permute the axes\n",
    "\n",
    "arr = np.arange(16).reshape((2, 2, 4))\n",
    "print('arr =')\n",
    "print(arr)\n",
    "print('----------------------------------------------------')\n",
    "print('arr.transpose((1, 0, 2)) =')\n",
    "print(arr.transpose((1, 0, 2)))\n",
    "print('----------------------------------------------------')\n"
   ]
  },
  {
   "cell_type": "code",
   "execution_count": 42,
   "id": "759008c6",
   "metadata": {},
   "outputs": [
    {
     "name": "stdout",
     "output_type": "stream",
     "text": [
      "arr =\n",
      "[[[ 0  1  2  3]\n",
      "  [ 4  5  6  7]]\n",
      "\n",
      " [[ 8  9 10 11]\n",
      "  [12 13 14 15]]]\n",
      "----------------------------------------------------\n",
      "arr.swapaxes(1, 2) =\n",
      "[[[ 0  4]\n",
      "  [ 1  5]\n",
      "  [ 2  6]\n",
      "  [ 3  7]]\n",
      "\n",
      " [[ 8 12]\n",
      "  [ 9 13]\n",
      "  [10 14]\n",
      "  [11 15]]]\n",
      "----------------------------------------------------\n"
     ]
    }
   ],
   "source": [
    "# ndarray has the method swapaxes()\n",
    "# which takes a pair of axis numbers and switches the indicated axes to rearange the data\n",
    "\n",
    "print('arr =')\n",
    "print(arr)\n",
    "print('----------------------------------------------------')\n",
    "print('arr.swapaxes(1, 2) =')\n",
    "print(arr.swapaxes(1, 2)) # swapaxes() similarly returns a view on the data without making a copy\n",
    "print('----------------------------------------------------')"
   ]
  },
  {
   "cell_type": "markdown",
   "id": "7be14fa0",
   "metadata": {},
   "source": [
    "# 4.2 Universal Functions: Fast Element-Wise Array Functions"
   ]
  },
  {
   "cell_type": "code",
   "execution_count": 43,
   "id": "8dca5a3a",
   "metadata": {},
   "outputs": [
    {
     "name": "stdout",
     "output_type": "stream",
     "text": [
      "arr = [0, 1, 2, 3, 4, 5, 6, 7, 8, 9]\n",
      "----------------------------------------------------\n",
      "np.sqrt(arr) =\n",
      "[0.0, 1.0, 1.4142, 1.7321, 2.0, 2.2361, 2.4495, 2.6458, 2.8284, 3.0]\n",
      "----------------------------------------------------\n",
      "np.exp(arr) =\n",
      "[1.0, 2.7183, 7.3891, 20.0855, 54.5982, 148.4132, 403.4288, 1096.6332, 2980.958, 8103.0839]\n",
      "----------------------------------------------------\n"
     ]
    }
   ],
   "source": [
    "# a universal function, or 'ufunc'\n",
    "# is a function that performs element-wise operations on data in ndarrays\n",
    "\n",
    "# many ufuncs are simple element-wise transformations, like np.sqrt() and np.exp()\n",
    "# these are referred to as 'unary' ufuncs\n",
    "\n",
    "arr = np.arange(10)\n",
    "print('arr =', list(arr))\n",
    "print('----------------------------------------------------')\n",
    "print('np.sqrt(arr) =')\n",
    "print(list(np.sqrt(arr).round(4)))\n",
    "print('----------------------------------------------------')\n",
    "print('np.exp(arr) =')\n",
    "print(list(np.exp(arr).round(4)))\n",
    "print('----------------------------------------------------')"
   ]
  },
  {
   "cell_type": "code",
   "execution_count": 44,
   "id": "85b14efe",
   "metadata": {},
   "outputs": [
    {
     "name": "stdout",
     "output_type": "stream",
     "text": [
      "x = [-0.0119  1.0048  1.3272 -0.9193 -1.5491  0.0222  0.7584 -0.6605]\n",
      "y = [ 0.8626 -0.01    0.05    0.6702  0.853  -0.9559 -0.0235 -2.3042]\n",
      "----------------------------------------------------\n",
      "np.maximum(x, y) =\n",
      "[ 0.8626  1.0048  1.3272  0.6702  0.853   0.0222  0.7584 -0.6605]\n",
      "----------------------------------------------------\n"
     ]
    }
   ],
   "source": [
    "# other functions, such as np.add() or np.maximum(), take two arrays and return a single array as the result\n",
    "# thus are called 'binary' ufuncs\n",
    "\n",
    "x = np.random.randn(8).round(4)\n",
    "y = np.random.randn(8).round(4)\n",
    "\n",
    "print('x =', x)\n",
    "print('y =', y)\n",
    "print('----------------------------------------------------')\n",
    "print('np.maximum(x, y) =')\n",
    "print(np.maximum(x, y))\n",
    "print('----------------------------------------------------')"
   ]
  },
  {
   "cell_type": "code",
   "execution_count": 45,
   "id": "42a751c3",
   "metadata": {},
   "outputs": [
    {
     "name": "stdout",
     "output_type": "stream",
     "text": [
      "arr = [-3.2623, -6.0915, -6.663, 5.3731, 3.6182, 3.45, 5.0077]\n",
      "----------------------------------------------------\n",
      "remainder = [-0.2623 -0.0915 -0.663   0.3731  0.6182  0.45    0.0077]\n",
      "----------------------------------------------------\n",
      "whole_part = [-3. -6. -6.  5.  3.  3.  5.]\n",
      "----------------------------------------------------\n"
     ]
    }
   ],
   "source": [
    "# while not common, a ufunc can return multiple arrays\n",
    "# np.modf() is one example, a vectorized version of the built-in Python divmod()\n",
    "# it returns the fractional and integral parts of a floating-point array\n",
    "\n",
    "arr = np.random.randn(7) * 5\n",
    "arr.round(4, arr)\n",
    "\n",
    "print('arr =', list(arr))\n",
    "print('----------------------------------------------------')\n",
    "remainder, whole_part = np.modf(arr)\n",
    "print('remainder =', remainder)\n",
    "print('----------------------------------------------------')\n",
    "print('whole_part =', whole_part)\n",
    "print('----------------------------------------------------')\n"
   ]
  },
  {
   "cell_type": "code",
   "execution_count": 46,
   "id": "1ff10a8b",
   "metadata": {},
   "outputs": [
    {
     "name": "stdout",
     "output_type": "stream",
     "text": [
      "arr = [-3.2623, -6.0915, -6.663, 5.3731, 3.6182, 3.45, 5.0077]\n",
      "----------------------------------------------------\n",
      "[nan, nan, nan, 2.3179948231176013, 1.9021566707293067, 1.857417562100671, 2.2377890874700412]\n",
      "----------------------------------------------------\n"
     ]
    },
    {
     "name": "stderr",
     "output_type": "stream",
     "text": [
      "C:\\Users\\ADMIN\\AppData\\Local\\Temp\\ipykernel_16272\\717166380.py:5: RuntimeWarning: invalid value encountered in sqrt\n",
      "  np.sqrt(arr, arr) # modify arr in-place\n"
     ]
    }
   ],
   "source": [
    "# ufuncs accept an optional 'out' argument that allows them to operate in-place on arrays\n",
    "\n",
    "print('arr =', list(arr))\n",
    "print('----------------------------------------------------')\n",
    "np.sqrt(arr, arr) # modify arr in-place\n",
    "print(list(arr))\n",
    "print('----------------------------------------------------')\n"
   ]
  },
  {
   "cell_type": "markdown",
   "id": "81470aac",
   "metadata": {},
   "source": [
    "# 4.3 Array-Oriented Programming with Arrays"
   ]
  },
  {
   "cell_type": "code",
   "execution_count": 47,
   "id": "b569e822",
   "metadata": {},
   "outputs": [
    {
     "name": "stdout",
     "output_type": "stream",
     "text": [
      "xs =\n",
      "[[-5.   -4.99 -4.98 ...  4.97  4.98  4.99]\n",
      " [-5.   -4.99 -4.98 ...  4.97  4.98  4.99]\n",
      " [-5.   -4.99 -4.98 ...  4.97  4.98  4.99]\n",
      " ...\n",
      " [-5.   -4.99 -4.98 ...  4.97  4.98  4.99]\n",
      " [-5.   -4.99 -4.98 ...  4.97  4.98  4.99]\n",
      " [-5.   -4.99 -4.98 ...  4.97  4.98  4.99]]\n",
      "----------------------------------------------------\n",
      "ys =\n",
      "[[-5.   -5.   -5.   ... -5.   -5.   -5.  ]\n",
      " [-4.99 -4.99 -4.99 ... -4.99 -4.99 -4.99]\n",
      " [-4.98 -4.98 -4.98 ... -4.98 -4.98 -4.98]\n",
      " ...\n",
      " [ 4.97  4.97  4.97 ...  4.97  4.97  4.97]\n",
      " [ 4.98  4.98  4.98 ...  4.98  4.98  4.98]\n",
      " [ 4.99  4.99  4.99 ...  4.99  4.99  4.99]]\n",
      "----------------------------------------------------\n"
     ]
    }
   ],
   "source": [
    "# using Numpy arrays enables you to express many kinds of data processing tasks \n",
    "# as concise array expressions that might otherwise require writing loops\n",
    "# this practice of replacing explicit loops with array expressions is commonly referred to as 'vectorization'\n",
    "\n",
    "\n",
    "# as a simple example, suppose we wish to evaluate the function sqrt(x^2 + y^2) across a regular grid of values\n",
    "# the np.meshgrid() function takes two 1D arrays and produces two 2D matrices \n",
    "# corresponding to all pairs of (x, y) in the two arrays\n",
    "\n",
    "points = np.arange(-5, 5, 0.01) # 1000 equally spaced points\n",
    "\n",
    "xs, ys = np.meshgrid(points, points)\n",
    "print('xs =')\n",
    "print(xs)\n",
    "print('----------------------------------------------------')\n",
    "print('ys =')\n",
    "print(ys)\n",
    "print('----------------------------------------------------')"
   ]
  },
  {
   "cell_type": "code",
   "execution_count": 48,
   "id": "5d4010fd",
   "metadata": {},
   "outputs": [
    {
     "data": {
      "text/plain": [
       "array([[7.0711, 7.064 , 7.0569, ..., 7.0499, 7.0569, 7.064 ],\n",
       "       [7.064 , 7.0569, 7.0499, ..., 7.0428, 7.0499, 7.0569],\n",
       "       [7.0569, 7.0499, 7.0428, ..., 7.0357, 7.0428, 7.0499],\n",
       "       ...,\n",
       "       [7.0499, 7.0428, 7.0357, ..., 7.0286, 7.0357, 7.0428],\n",
       "       [7.0569, 7.0499, 7.0428, ..., 7.0357, 7.0428, 7.0499],\n",
       "       [7.064 , 7.0569, 7.0499, ..., 7.0428, 7.0499, 7.0569]])"
      ]
     },
     "execution_count": 48,
     "metadata": {},
     "output_type": "execute_result"
    }
   ],
   "source": [
    "# now, evaluating the function is a matter of writing the same expression you would write with two points\n",
    "z = np.sqrt(xs**2 + ys**2).round(4)\n",
    "z"
   ]
  },
  {
   "cell_type": "code",
   "execution_count": 49,
   "id": "7a687440",
   "metadata": {},
   "outputs": [
    {
     "data": {
      "text/plain": [
       "Text(0.5, 1.0, 'Image plot of $\\\\sqrt{x^2 + y^2}$ for a grid of values')"
      ]
     },
     "execution_count": 49,
     "metadata": {},
     "output_type": "execute_result"
    },
    {
     "data": {
      "image/png": "[encoded data removed]",
      "text/plain": [
       "<Figure size 432x288 with 2 Axes>"
      ]
     },
     "metadata": {
      "needs_background": "light"
     },
     "output_type": "display_data"
    }
   ],
   "source": [
    "# as a preview of CHAPTER 9, I use matplotlib to create visualization of this 2D array\n",
    "\n",
    "import matplotlib.pyplot as plt\n",
    "plt.imshow(z, cmap=plt.cm.gray)\n",
    "plt.colorbar()\n",
    "plt.title(\"Image plot of $\\sqrt{x^2 + y^2}$ for a grid of values\")"
   ]
  },
  {
   "cell_type": "markdown",
   "id": "6443cbcf",
   "metadata": {},
   "source": [
    "## 4.3.1 Expressing Conditional Logic as Array Operations"
   ]
  },
  {
   "cell_type": "code",
   "execution_count": 50,
   "id": "382dc994",
   "metadata": {},
   "outputs": [
    {
     "data": {
      "text/plain": [
       "array([1.1, 2.2, 1.3, 1.4, 2.5])"
      ]
     },
     "execution_count": 50,
     "metadata": {},
     "output_type": "execute_result"
    }
   ],
   "source": [
    "# the np.where() function is a vectorized version of the tenary expression 'x if condition else y'\n",
    "\n",
    "xarr = np.array([1.1, 1.2, 1.3, 1.4, 1.5])\n",
    "yarr = np.array([2.1, 2.2, 2.3, 2.4, 2.5])\n",
    "\n",
    "cond = np.array([True, False, True, True, False])\n",
    "\n",
    "# suppose we want to take from xarr whenever cond is True, else take from yarr\n",
    "result = np.where(cond, xarr, yarr)\n",
    "result"
   ]
  },
  {
   "cell_type": "code",
   "execution_count": 51,
   "id": "d68e4743",
   "metadata": {},
   "outputs": [
    {
     "name": "stdout",
     "output_type": "stream",
     "text": [
      "arr =\n",
      "[[-0.5031 -0.6223 -0.9212 -0.7262]\n",
      " [ 0.2229  0.0513 -1.1577  0.8167]\n",
      " [ 0.4336  1.0107  1.8249 -0.9975]\n",
      " [ 0.8506 -0.1316  0.9124  0.1882]]\n",
      "----------------------------------------------------\n",
      "np.where(arr > 0, 2, -2) =\n",
      "[[-2 -2 -2 -2]\n",
      " [ 2  2 -2  2]\n",
      " [ 2  2  2 -2]\n",
      " [ 2 -2  2  2]]\n",
      "----------------------------------------------------\n"
     ]
    }
   ],
   "source": [
    "# suppose you have a matrix randomly generated\n",
    "# and you want to replace all positive values with 2 and all negative values with -2\n",
    "arr = np.random.randn(4, 4)\n",
    "print('arr =')\n",
    "print(arr.round(4))\n",
    "print('----------------------------------------------------')\n",
    "print('np.where(arr > 0, 2, -2) =')\n",
    "print(np.where(arr > 0, 2, -2))\n",
    "print('----------------------------------------------------')\n"
   ]
  },
  {
   "cell_type": "markdown",
   "id": "2ac5dc80",
   "metadata": {},
   "source": [
    "## 4.3.2 Mathematical and Statistical Methods"
   ]
  },
  {
   "cell_type": "code",
   "execution_count": 52,
   "id": "ef5a49c4",
   "metadata": {},
   "outputs": [
    {
     "name": "stdout",
     "output_type": "stream",
     "text": [
      "arr =\n",
      "[[ 2.1695 -0.1149  2.0037  0.0296]\n",
      " [ 0.7953  0.1181 -0.7485  0.585 ]\n",
      " [ 0.1527 -1.5657 -0.5625 -0.0327]\n",
      " [-0.929  -0.4826 -0.0363  1.0954]\n",
      " [ 0.9809 -0.5895  1.5817 -0.5287]]\n",
      "----------------------------------------------------\n",
      "arr.mean() = 0.19607051119998253\n",
      "arr.sum() = 3.9214102239996507\n",
      "----------------------------------------------------\n",
      "arr.mean(axis=1) = [1.022, 0.1875, -0.502, -0.0881, 0.3611]\n",
      "arr.sum(axis=1) = [3.1693, -2.6345, 2.2381, 1.1486]\n",
      "----------------------------------------------------\n"
     ]
    }
   ],
   "source": [
    "# you can use aggregations (often called reductions)\n",
    "# like sum(), mean(), and std() either by calling the array instance method or using the top-level Numpy function\n",
    "\n",
    "# generate some normally distributed data\n",
    "arr = np.random.randn(5, 4)\n",
    "\n",
    "print('arr =')\n",
    "print(arr.round(4))\n",
    "print('----------------------------------------------------')\n",
    "print('arr.mean() =', arr.mean()) # or np.mean(arr)\n",
    "print('arr.sum() =', arr.sum()) # or np.sum(arr)\n",
    "print('----------------------------------------------------')\n",
    "\n",
    "# functions like mean() and sum() take an optional 'axis' argument \n",
    "# that computes the statistic over the given axis, resulting in an array with one fewer dimension\n",
    "print('arr.mean(axis=1) =', list(arr.mean(axis=1).round(4)))\n",
    "print('arr.sum(axis=1) =', list(arr.sum(axis=0).round(4)))\n",
    "print('----------------------------------------------------')\n"
   ]
  },
  {
   "cell_type": "code",
   "execution_count": 53,
   "id": "d3047103",
   "metadata": {},
   "outputs": [
    {
     "data": {
      "text/plain": [
       "array([ 0,  1,  3,  6, 10, 15, 21, 28])"
      ]
     },
     "execution_count": 53,
     "metadata": {},
     "output_type": "execute_result"
    }
   ],
   "source": [
    "# other methods like cumsum() and cumprod() do not aggregate\n",
    "# instead they produce an array of the intermediate results\n",
    "\n",
    "arr = np.array([0, 1, 2, 3, 4, 5, 6, 7])\n",
    "\n",
    "arr.cumsum()"
   ]
  },
  {
   "cell_type": "code",
   "execution_count": 54,
   "id": "59724a30",
   "metadata": {},
   "outputs": [
    {
     "name": "stdout",
     "output_type": "stream",
     "text": [
      "arr =\n",
      "[[0 1 2]\n",
      " [3 4 5]\n",
      " [6 7 8]]\n",
      "----------------------------------------------------\n",
      "arr.cumsum(axis=0) =\n",
      "[[ 0  1  2]\n",
      " [ 3  5  7]\n",
      " [ 9 12 15]]\n",
      "----------------------------------------------------\n",
      "arr.cumprod(axis=1) =\n",
      "[[  0   0   0]\n",
      " [  3  12  60]\n",
      " [  6  42 336]]\n",
      "----------------------------------------------------\n"
     ]
    }
   ],
   "source": [
    "# in multidimensional arrays, accumulation functions like cumsum() return an array of the same size\n",
    "# but with the partial aggregates computed along the indicated axis according to each lower dimensional slice\n",
    "arr = np.array([[0, 1, 2], [3, 4, 5], [6, 7, 8]])\n",
    "print('arr =')\n",
    "print(arr)\n",
    "print('----------------------------------------------------')\n",
    "print('arr.cumsum(axis=0) =')\n",
    "print(arr.cumsum(axis=0))\n",
    "print('----------------------------------------------------')\n",
    "print('arr.cumprod(axis=1) =')\n",
    "print(arr.cumprod(axis=1))\n",
    "print('----------------------------------------------------')\n"
   ]
  },
  {
   "cell_type": "markdown",
   "id": "ed64c0a8",
   "metadata": {},
   "source": [
    "## 4.3.3 Methods for Boolean Arrays"
   ]
  },
  {
   "cell_type": "code",
   "execution_count": 55,
   "id": "d79ffc6e",
   "metadata": {},
   "outputs": [
    {
     "name": "stdout",
     "output_type": "stream",
     "text": [
      "number of positive values: 42\n",
      "----------------------------------------------------\n",
      "bools.any() = True\n",
      "bools.all() = False\n"
     ]
    }
   ],
   "source": [
    "# boolean values are coerced to 1 (True) and 0 (False) in the preceding methods\n",
    "\n",
    "# thus sum() is often used as a means of counting True values in a boolean array\n",
    "arr = np.random.randn(100)\n",
    "print('number of positive values:', (arr > 0).sum()) \n",
    "print('----------------------------------------------------')\n",
    "\n",
    "# there are two additional methods, any() and all()\n",
    "# any() tests whether one or more values in an array is True\n",
    "# all() tests if every values is True\n",
    "bools = np.array([False, False, True, False])\n",
    "print('bools.any() =', bools.any())\n",
    "print('bools.all() =', bools.all())\n",
    "\n",
    "# these methods also works with non-boolean arrays, where non-zero elements evaluate to True"
   ]
  },
  {
   "cell_type": "markdown",
   "id": "f973a388",
   "metadata": {},
   "source": [
    "## 4.3.4 Sorting"
   ]
  },
  {
   "cell_type": "code",
   "execution_count": 56,
   "id": "90cab118",
   "metadata": {},
   "outputs": [
    {
     "name": "stdout",
     "output_type": "stream",
     "text": [
      "pre-sort:  [0.6095, -0.4938, 1.24, -0.1357, 1.43, -0.8469]\n",
      "----------------------------------------------------\n",
      "post-sort [-0.8469, -0.4938, -0.1357, 0.6095, 1.24, 1.43]\n",
      "----------------------------------------------------\n"
     ]
    }
   ],
   "source": [
    "# like Python's built-in type, Numpy arrays can be sorted in-place with the sort() method\n",
    "\n",
    "arr = np.random.randn(6).round(4)\n",
    "print('pre-sort: ', list(arr))\n",
    "print('----------------------------------------------------')\n",
    "arr.sort() \n",
    "print('post-sort', list(arr))\n",
    "print('----------------------------------------------------')\n"
   ]
  },
  {
   "cell_type": "code",
   "execution_count": 57,
   "id": "315fdc44",
   "metadata": {},
   "outputs": [
    {
     "name": "stdout",
     "output_type": "stream",
     "text": [
      "pre-sort: \n",
      "[[ 0.6033  1.2636 -0.2555]\n",
      " [-0.4457  0.4684 -0.9616]\n",
      " [-1.8245  0.6254  1.0229]\n",
      " [ 1.1074  0.0909 -0.3501]\n",
      " [ 0.218  -0.8948 -1.7415]]\n",
      "----------------------------------------------------\n",
      "post-sort: \n",
      "[[-0.2555  0.6033  1.2636]\n",
      " [-0.9616 -0.4457  0.4684]\n",
      " [-1.8245  0.6254  1.0229]\n",
      " [-0.3501  0.0909  1.1074]\n",
      " [-1.7415 -0.8948  0.218 ]]\n",
      "----------------------------------------------------\n"
     ]
    }
   ],
   "source": [
    "# you can sort each one-dimensional section of values in a multidimensional array in-place along an axis\n",
    "# by passing the axis number to sort\n",
    "\n",
    "arr = np.random.randn(5, 3).round(4)\n",
    "print('pre-sort: ')\n",
    "print(arr)\n",
    "print('----------------------------------------------------')\n",
    "arr.sort(1)\n",
    "print('post-sort: ')\n",
    "print(arr)\n",
    "print('----------------------------------------------------')\n"
   ]
  },
  {
   "cell_type": "code",
   "execution_count": 58,
   "id": "9649f010",
   "metadata": {},
   "outputs": [
    {
     "data": {
      "text/plain": [
       "-1.5311513550102103"
      ]
     },
     "execution_count": 58,
     "metadata": {},
     "output_type": "execute_result"
    }
   ],
   "source": [
    "# the top-level np.sort() returns a sorted copy of an array instead of modifying the array in-place\n",
    "\n",
    "# a quick-and-dirty way to compute the quantiles of an array is to sort it and select the value at a particular rank\n",
    "large_arr = np.random.randn(1000)\n",
    "large_arr.sort()\n",
    "large_arr[int(0.05 * len(large_arr))] # 5% quantile"
   ]
  },
  {
   "cell_type": "markdown",
   "id": "2b9c5569",
   "metadata": {},
   "source": [
    "## 4.3.5 Unique and other Set Logic"
   ]
  },
  {
   "cell_type": "code",
   "execution_count": 59,
   "id": "d3148cdd",
   "metadata": {},
   "outputs": [
    {
     "data": {
      "text/plain": [
       "array(['Bob', 'Joe', 'Will'], dtype='<U4')"
      ]
     },
     "execution_count": 59,
     "metadata": {},
     "output_type": "execute_result"
    }
   ],
   "source": [
    "# Numpy has some basic set operations for one-dimensional ndarrays\n",
    "# np.unique() returns the sorted unique values in an array\n",
    "\n",
    "names = np.array(['Bob', 'Joe', 'Will', 'Bob', 'Will', 'Joe', 'Joe'])\n",
    "np.unique(names)"
   ]
  },
  {
   "cell_type": "code",
   "execution_count": 60,
   "id": "2e84094d",
   "metadata": {},
   "outputs": [
    {
     "data": {
      "text/plain": [
       "array([ True, False, False,  True,  True, False,  True])"
      ]
     },
     "execution_count": 60,
     "metadata": {},
     "output_type": "execute_result"
    }
   ],
   "source": [
    "# np.in1d() tests membership of the values in one array in another, returning a boolean array\n",
    "\n",
    "values = np.array([6, 0, 0, 3, 2, 5, 6])\n",
    "np.in1d(values, [2, 3, 6])"
   ]
  },
  {
   "cell_type": "markdown",
   "id": "b74b8e55",
   "metadata": {},
   "source": [
    "# 4.4 File Input and Output with Arrays"
   ]
  },
  {
   "cell_type": "code",
   "execution_count": 61,
   "id": "a720e234",
   "metadata": {},
   "outputs": [
    {
     "data": {
      "text/plain": [
       "array([0, 1, 2, 3, 4, 5, 6, 7, 8, 9])"
      ]
     },
     "execution_count": 61,
     "metadata": {},
     "output_type": "execute_result"
    }
   ],
   "source": [
    "# Numpy is able to save and load data to and from disk either in text or binary format\n",
    "# np.save() and np.load() are two functions for efficiently saving and loading array data on disk\n",
    "# arrays are saved by default in an uncompressed raw binary format with the file extension .npy\n",
    "\n",
    "# save data\n",
    "arr = np.arange(10)\n",
    "np.save('some_array', arr) # if the file path doesn't contains .npy, the extension will be appended\n",
    "\n",
    "# load data\n",
    "np.load('some_array.npy')"
   ]
  },
  {
   "cell_type": "code",
   "execution_count": 62,
   "id": "2e77ae1e",
   "metadata": {},
   "outputs": [
    {
     "data": {
      "text/plain": [
       "array([0, 1, 2, 3, 4, 5, 6, 7, 8, 9])"
      ]
     },
     "execution_count": 62,
     "metadata": {},
     "output_type": "execute_result"
    }
   ],
   "source": [
    "# you save multiple arrays in an uncompressed archive using np.savez()\n",
    "# passing the arrays as keyword arguments\n",
    "np.savez('array_archive.npz', a=arr, b=arr)\n",
    "\n",
    "# when loading a .npz file, you get back a dict-like object that loads the individual arrays lazily\n",
    "arch = np.load('array_archive.npz')\n",
    "\n",
    "arch['b']"
   ]
  },
  {
   "cell_type": "code",
   "execution_count": 63,
   "id": "ba1b439b",
   "metadata": {},
   "outputs": [],
   "source": [
    "# if your data compresses well, you may wish to use np.savez_compressed() instead\n",
    "np.savez_compressed('array_compressed.npz', a=arr, b=arr)"
   ]
  },
  {
   "cell_type": "markdown",
   "id": "9c7ecfe9",
   "metadata": {},
   "source": [
    "# 4.5 Linear Algebra"
   ]
  },
  {
   "cell_type": "code",
   "execution_count": 64,
   "id": "7846872c",
   "metadata": {},
   "outputs": [
    {
     "name": "stdout",
     "output_type": "stream",
     "text": [
      "x =\n",
      "[[1 2 3]\n",
      " [4 5 6]]\n",
      "----------------------------------------------------\n",
      "y =\n",
      "[[ 6 23]\n",
      " [-1  7]\n",
      " [ 8  9]]\n",
      "----------------------------------------------------\n",
      "np.dot(x, y) =\n",
      "[[ 28  64]\n",
      " [ 67 181]]\n",
      "----------------------------------------------------\n"
     ]
    }
   ],
   "source": [
    "# linear algebra is an important part of any array library\n",
    "\n",
    "x = np.array([[1, 2, 3], [4, 5,6]])\n",
    "y = np.array([[6, 23], [-1, 7], [8, 9]])\n",
    "\n",
    "print('x =')\n",
    "print(x)\n",
    "print('----------------------------------------------------')\n",
    "print('y =')\n",
    "print(y)\n",
    "print('----------------------------------------------------')\n",
    "print('np.dot(x, y) =')\n",
    "print(x.dot(y)) # or np.dot(x, y)\n",
    "print('----------------------------------------------------')"
   ]
  },
  {
   "cell_type": "code",
   "execution_count": 65,
   "id": "8aa8e024",
   "metadata": {},
   "outputs": [
    {
     "data": {
      "text/plain": [
       "array([[ 28,  64],\n",
       "       [ 67, 181]])"
      ]
     },
     "execution_count": 65,
     "metadata": {},
     "output_type": "execute_result"
    }
   ],
   "source": [
    "# the @ symbol also works as an infix operator that performs matrix multiplication\n",
    "x @ y"
   ]
  },
  {
   "cell_type": "code",
   "execution_count": 66,
   "id": "2d6ac40c",
   "metadata": {},
   "outputs": [
    {
     "name": "stdout",
     "output_type": "stream",
     "text": [
      "inv(mat) =\n",
      "[[  943.0742   881.2287 -1433.0098 -1475.9954  1801.1175]\n",
      " [  881.2287   824.2731 -1340.4645 -1380.6538  1684.8607]\n",
      " [-1433.0098 -1340.4645  2182.0143  2246.0177 -2740.8885]\n",
      " [-1475.9954 -1380.6538  2246.0177  2313.4871 -2823.1519]\n",
      " [ 1801.1175  1684.8607 -2740.8885 -2823.1519  3445.6927]]\n",
      "----------------------------------------------------\n",
      "np.dot(mat, inv(mat) =\n",
      "[[ 1.  0. -0.  0. -0.]\n",
      " [ 0.  1.  0. -0.  0.]\n",
      " [-0. -0.  1.  0. -0.]\n",
      " [ 0.  0. -0.  1.  0.]\n",
      " [ 0.  0. -0. -0.  1.]]\n",
      "----------------------------------------------------\n",
      "r =\n",
      "[[-1.692  4.38   0.176  0.408 -0.784]\n",
      " [ 0.    -2.643  0.194 -3.072 -1.07 ]\n",
      " [ 0.     0.    -0.814  1.541  0.616]\n",
      " [ 0.     0.     0.    -2.645 -2.167]\n",
      " [ 0.     0.     0.     0.     0.   ]]\n",
      "----------------------------------------------------\n"
     ]
    }
   ],
   "source": [
    "# numpy.linalg has a standard set of matrix decompositions and things like inverse and determinant\n",
    "\n",
    "from numpy.linalg import inv, qr\n",
    "\n",
    "X = np.random.randn(5, 5).round(4)\n",
    "\n",
    "mat = np.dot(X.T, X)\n",
    "\n",
    "print('inv(mat) =')\n",
    "print(inv(mat).round(4))\n",
    "print('----------------------------------------------------')\n",
    "print('np.dot(mat, inv(mat) =')\n",
    "print(np.dot(mat, inv(mat)).round(3))\n",
    "print('----------------------------------------------------')\n",
    "q, r = qr(mat)\n",
    "print('r =')\n",
    "print(r.round(3))\n",
    "print('----------------------------------------------------')"
   ]
  },
  {
   "cell_type": "markdown",
   "id": "2b1498d6",
   "metadata": {},
   "source": [
    "# 4.6 Pseudorandom Number Generation"
   ]
  },
  {
   "cell_type": "code",
   "execution_count": 67,
   "id": "cb4569ce",
   "metadata": {},
   "outputs": [
    {
     "data": {
      "text/plain": [
       "array([[ 0.5732,  0.1933,  0.4429,  1.2796],\n",
       "       [ 0.575 ,  0.4339, -0.7658, -1.237 ],\n",
       "       [-0.5367,  1.8545, -0.92  , -0.1082],\n",
       "       [ 0.1525,  0.9435, -1.0953, -0.144 ]])"
      ]
     },
     "execution_count": 67,
     "metadata": {},
     "output_type": "execute_result"
    }
   ],
   "source": [
    "# the numpy.random module supplements the built-in Python random with \n",
    "# functions for efficiently generating whole arrays of sample values from many kinds of probability distributions\n",
    "\n",
    "# example, get a 4x4 array of samples from the standard normal distribution using normal()\n",
    "samples = np.random.normal(size=(4, 4))\n",
    "samples"
   ]
  },
  {
   "cell_type": "code",
   "execution_count": 68,
   "id": "0a267b61",
   "metadata": {},
   "outputs": [
    {
     "name": "stdout",
     "output_type": "stream",
     "text": [
      "1.36 s ± 14.9 ms per loop (mean ± std. dev. of 7 runs, 1 loop each)\n",
      "30.3 ms ± 1.13 ms per loop (mean ± std. dev. of 7 runs, 10 loops each)\n"
     ]
    }
   ],
   "source": [
    "# Python's built-in random module, only samples one value at a time\n",
    "# which makes it slower than numpy.random\n",
    "\n",
    "from random import normalvariate\n",
    "\n",
    "N = 1000000\n",
    "\n",
    "%timeit [normalvariate(0, 1) for _ in range(N)]\n",
    "\n",
    "%timeit np.random.normal(size=N)"
   ]
  },
  {
   "cell_type": "code",
   "execution_count": 69,
   "id": "18e3a686",
   "metadata": {},
   "outputs": [
    {
     "data": {
      "text/plain": [
       "array([0.9296, 0.3164, 0.1839, 0.2046, 0.5677, 0.5955, 0.9645, 0.6532,\n",
       "       0.7489, 0.6536])"
      ]
     },
     "execution_count": 69,
     "metadata": {},
     "output_type": "execute_result"
    }
   ],
   "source": [
    "# you can change Numpy's number generation seed using np.random.seed()\n",
    "np.random.seed(1234)\n",
    "\n",
    "# the data generation numpy.random use a global random seed\n",
    "# to avoid global state, you can use np.random.RandomState() to create a random number generator isolated from others\n",
    "rng = np.random.RandomState(12345)\n",
    "rng.random(10)"
   ]
  },
  {
   "cell_type": "markdown",
   "id": "ded77579",
   "metadata": {},
   "source": [
    "# 4.7 Example: Random Walks"
   ]
  },
  {
   "cell_type": "code",
   "execution_count": 70,
   "id": "b8f82479",
   "metadata": {},
   "outputs": [
    {
     "data": {
      "text/plain": [
       "[<matplotlib.lines.Line2D at 0x2286e605e80>]"
      ]
     },
     "execution_count": 70,
     "metadata": {},
     "output_type": "execute_result"
    },
    {
     "data": {
      "image/png": "[encoded data removed]",
      "text/plain": [
       "<Figure size 432x288 with 1 Axes>"
      ]
     },
     "metadata": {
      "needs_background": "light"
     },
     "output_type": "display_data"
    }
   ],
   "source": [
    "# the simulation of random walks provides an illustrative application of utilizing array operations\n",
    "# let's first consider a simple random walk starting at 0 with steps of 1 and -1 occuring with equal probability\n",
    "\n",
    "# the pure Python way\n",
    "import random\n",
    "\n",
    "position = 0\n",
    "walk = [position]\n",
    "steps = 1000 \n",
    "for i in range(steps):\n",
    "    step = 1 if random.randint(0, 1) else -1\n",
    "    position += step\n",
    "    walk.append(position)\n",
    "\n",
    "plt.plot(walk)"
   ]
  },
  {
   "cell_type": "code",
   "execution_count": 71,
   "id": "30029d6e",
   "metadata": {},
   "outputs": [
    {
     "data": {
      "text/plain": [
       "[<matplotlib.lines.Line2D at 0x2286eb2afd0>]"
      ]
     },
     "execution_count": 71,
     "metadata": {},
     "output_type": "execute_result"
    },
    {
     "data": {
      "image/png": "[encoded data removed]",
      "text/plain": [
       "<Figure size 432x288 with 1 Axes>"
      ]
     },
     "metadata": {
      "needs_background": "light"
     },
     "output_type": "display_data"
    }
   ],
   "source": [
    "# you might make the observation that walk is simply the cumulative sum of the random steps\n",
    "# and could be evaluated as an array expression\n",
    "\n",
    "# the Numpy way\n",
    "np.random.seed(12345)\n",
    "\n",
    "nsteps = 1000\n",
    "draws = np.random.randint(0, 2, size=nsteps) # 0 or 1\n",
    "steps = np.where(draws > 0, 1, -1)\n",
    "walk = steps.cumsum()\n",
    "\n",
    "plt.plot(walk)"
   ]
  },
  {
   "cell_type": "code",
   "execution_count": 72,
   "id": "abc9ab3d",
   "metadata": {},
   "outputs": [
    {
     "name": "stdout",
     "output_type": "stream",
     "text": [
      "walk.min() = -3\n",
      "walk.max() = 31\n"
     ]
    }
   ],
   "source": [
    "# from this we can begin to extract statistics like the minimum and maximum value along the walk's trajectory\n",
    "print('walk.min() =', walk.min())\n",
    "print('walk.max() =', walk.max())"
   ]
  },
  {
   "cell_type": "code",
   "execution_count": 73,
   "id": "cde14bb6",
   "metadata": {},
   "outputs": [
    {
     "data": {
      "text/plain": [
       "37"
      ]
     },
     "execution_count": 73,
     "metadata": {},
     "output_type": "execute_result"
    }
   ],
   "source": [
    "# a more complicated statistics is the first crossing time\n",
    "# the step at which the random walk reaches a particular value\n",
    "# here we might want to know how long it took the random walk to get at least 10 steps away from the origin 0 in either direction\n",
    "\n",
    "(np.abs(walk) >= 10).argmax() # argmax() returns the first index of the maximum value in the array"
   ]
  },
  {
   "cell_type": "markdown",
   "id": "6d01bfb3",
   "metadata": {},
   "source": [
    "## 4.7.1 Simulating Many Random Walk at Once"
   ]
  },
  {
   "cell_type": "code",
   "execution_count": 74,
   "id": "b0378c60",
   "metadata": {},
   "outputs": [
    {
     "data": {
      "text/plain": [
       "array([[  1,   0,   1, ...,   8,   7,   8],\n",
       "       [  1,   0,  -1, ...,  34,  33,  32],\n",
       "       [  1,   0,  -1, ...,   4,   5,   4],\n",
       "       ...,\n",
       "       [  1,   2,   1, ...,  24,  25,  26],\n",
       "       [  1,   2,   3, ...,  14,  13,  14],\n",
       "       [ -1,  -2,  -3, ..., -24, -23, -22]])"
      ]
     },
     "execution_count": 74,
     "metadata": {},
     "output_type": "execute_result"
    }
   ],
   "source": [
    "# if you want to simulate many random walks (5000 in this example)\n",
    "# you can generate all of the random walks with minor modifications to the preceding code\n",
    "nwalks = 5000\n",
    "nsteps = 1000\n",
    "draws = np.random.randint(0, 2, size=(nwalks, nsteps)) # 0 or 1\n",
    "steps = np.where(draws > 0, 1, -1)\n",
    "walks = steps.cumsum(1)\n",
    "\n",
    "walks"
   ]
  },
  {
   "cell_type": "code",
   "execution_count": 75,
   "id": "5a20e93b",
   "metadata": {},
   "outputs": [
    {
     "name": "stdout",
     "output_type": "stream",
     "text": [
      "walks.min() = -133\n",
      "walks.max() = 138\n"
     ]
    }
   ],
   "source": [
    "# now we can compute the maximum and minimum values obtained over all the random walks\n",
    "print('walks.min() =', walks.min())\n",
    "print('walks.max() =', walks.max())"
   ]
  },
  {
   "cell_type": "code",
   "execution_count": 76,
   "id": "43d066e4",
   "metadata": {},
   "outputs": [
    {
     "data": {
      "text/plain": [
       "array([False,  True, False, ..., False,  True, False])"
      ]
     },
     "execution_count": 76,
     "metadata": {},
     "output_type": "execute_result"
    }
   ],
   "source": [
    "# out of these walks, let's compute the minimum crossing time to 30 or -30\n",
    "# this is slightly tricky because not all 5000 of them reach 30\n",
    "# we can check this using the any() method\n",
    "\n",
    "hits30 = (np.abs(walks) >= 30).any(1)\n",
    "hits30"
   ]
  },
  {
   "cell_type": "code",
   "execution_count": 77,
   "id": "358bde0b",
   "metadata": {},
   "outputs": [
    {
     "name": "stdout",
     "output_type": "stream",
     "text": [
      "hits30.sum() = 3410\n",
      "crossing_times.mean() = 498.8897360703812\n"
     ]
    }
   ],
   "source": [
    "print('hits30.sum() =', hits30.sum())\n",
    "\n",
    "crossing_times = (np.abs(walks[hits30]) >= 30).argmax(1)\n",
    "print('crossing_times.mean() =', crossing_times.mean())"
   ]
  },
  {
   "cell_type": "code",
   "execution_count": 78,
   "id": "6642fe00",
   "metadata": {},
   "outputs": [
    {
     "data": {
      "text/plain": [
       "(array([   3.,   40.,  332., 1372., 2874., 3130., 1678.,  479.,   87.,\n",
       "           5.]),\n",
       " array([-1.0715, -0.8624, -0.6532, -0.4441, -0.2349, -0.0258,  0.1834,\n",
       "         0.3926,  0.6017,  0.8109,  1.02  ]),\n",
       " <BarContainer object of 10 artists>)"
      ]
     },
     "execution_count": 78,
     "metadata": {},
     "output_type": "execute_result"
    },
    {
     "data": {
      "image/png": "[encoded data removed]",
      "text/plain": [
       "<Figure size 432x288 with 1 Axes>"
      ]
     },
     "metadata": {
      "needs_background": "light"
     },
     "output_type": "display_data"
    }
   ],
   "source": [
    "# feel free to experiment with other distributions for the steps other than equal-sized coin flips\n",
    "# you need only use a different random number generation function\n",
    "# like normal() to generate normally distributed steps with some mean (loc) and std (scale)\n",
    "\n",
    "steps = np.random.normal(loc=0, scale=0.25, size=10000)\n",
    "plt.hist(steps)"
   ]
  }
 ],
 "metadata": {
  "kernelspec": {
   "display_name": "Python 3 (ipykernel)",
   "language": "python",
   "name": "python3"
  },
  "language_info": {
   "codemirror_mode": {
    "name": "ipython",
    "version": 3
   },
   "file_extension": ".py",
   "mimetype": "text/x-python",
   "name": "python",
   "nbconvert_exporter": "python",
   "pygments_lexer": "ipython3",
   "version": "3.9.10"
  }
 },
 "nbformat": 4,
 "nbformat_minor": 5
}
